{
 "cells": [
  {
   "cell_type": "code",
   "execution_count": 620,
   "id": "426854c4",
   "metadata": {},
   "outputs": [],
   "source": [
    "import pandas as pd\n",
    "import numpy as np\n",
    "import matplotlib.pyplot as plt\n",
    "\n",
    "df = pd.read_csv(\"FYP good data_tensile_today.csv\")"
   ]
  },
  {
   "cell_type": "code",
   "execution_count": 621,
   "id": "477cbb08",
   "metadata": {
    "scrolled": true
   },
   "outputs": [],
   "source": [
    "#df.head()"
   ]
  },
  {
   "cell_type": "code",
   "execution_count": 622,
   "id": "47917cc1",
   "metadata": {},
   "outputs": [],
   "source": [
    "#df.shape"
   ]
  },
  {
   "cell_type": "code",
   "execution_count": 623,
   "id": "18f60676",
   "metadata": {},
   "outputs": [],
   "source": [
    "xVars = df.drop([\"Tensile\",\"Elongation\",\"Hardness\",\"M16\"], axis=1)\n",
    "yVars = df[[\"Tensile\",\"Elongation\",\"Hardness\",\"M16\"]]"
   ]
  },
  {
   "cell_type": "code",
   "execution_count": 624,
   "id": "87cbc15c",
   "metadata": {},
   "outputs": [],
   "source": [
    "#yVars.head()"
   ]
  },
  {
   "cell_type": "code",
   "execution_count": 625,
   "id": "ea40bdb5",
   "metadata": {},
   "outputs": [],
   "source": [
    "#xVars.head()"
   ]
  },
  {
   "cell_type": "code",
   "execution_count": 626,
   "id": "6356b57b",
   "metadata": {},
   "outputs": [],
   "source": [
    "from sklearn.model_selection import train_test_split\n",
    "xTrain, xValid, yTrain, yValid=train_test_split(xVars, yVars, train_size=0.8, random_state=1)"
   ]
  },
  {
   "cell_type": "code",
   "execution_count": 627,
   "id": "853e237d",
   "metadata": {},
   "outputs": [
    {
     "data": {
      "text/plain": [
       "StandardScaler()"
      ]
     },
     "execution_count": 627,
     "metadata": {},
     "output_type": "execute_result"
    }
   ],
   "source": [
    "from sklearn.preprocessing import StandardScaler\n",
    "scaler=StandardScaler()\n",
    "scaler.fit(xTrain)"
   ]
  },
  {
   "cell_type": "code",
   "execution_count": 628,
   "id": "764172bb",
   "metadata": {},
   "outputs": [],
   "source": [
    "xTrain=scaler.transform(xTrain)\n",
    "xValid=scaler.transform(xValid)"
   ]
  },
  {
   "cell_type": "code",
   "execution_count": 629,
   "id": "e2dfd6ec",
   "metadata": {},
   "outputs": [],
   "source": [
    "#pd.DataFrame(xTrain).describe()"
   ]
  },
  {
   "cell_type": "code",
   "execution_count": 630,
   "id": "ac351586",
   "metadata": {},
   "outputs": [],
   "source": [
    "#pd.DataFrame(xValid).describe()"
   ]
  },
  {
   "cell_type": "code",
   "execution_count": 631,
   "id": "4883e9de",
   "metadata": {},
   "outputs": [
    {
     "data": {
      "text/plain": [
       "MLPRegressor(activation='tanh', hidden_layer_sizes=(10, 10), max_iter=10000000,\n",
       "             solver='lbfgs')"
      ]
     },
     "execution_count": 631,
     "metadata": {},
     "output_type": "execute_result"
    }
   ],
   "source": [
    "from sklearn.neural_network import MLPRegressor \n",
    "nn = MLPRegressor(hidden_layer_sizes=(10,10,), activation='tanh', max_iter=10000000, solver='lbfgs', alpha=0.0001, random_state=1)\n",
    "nn.fit(xTrain, yTrain)"
   ]
  },
  {
   "cell_type": "code",
   "execution_count": 632,
   "id": "4465b890",
   "metadata": {},
   "outputs": [],
   "source": [
    "y_predicted_training = nn.predict(xTrain)\n",
    "y_predicted_testing = nn.predict(xValid)"
   ]
  },
  {
   "cell_type": "code",
   "execution_count": 633,
   "id": "3d2e049b",
   "metadata": {
    "scrolled": true
   },
   "outputs": [
    {
     "name": "stdout",
     "output_type": "stream",
     "text": [
      "5.158072361605403 136.73986858537583 0.010470373693860613\n"
     ]
    }
   ],
   "source": [
    "from sklearn import metrics \n",
    "mae = metrics.mean_absolute_error(yTrain, y_predicted_training)\n",
    "mse = metrics.mean_squared_error(yTrain, y_predicted_training)\n",
    "rsq = metrics.r2_score(yTrain, y_predicted_training)\n",
    "print(mae, mse, rsq)"
   ]
  },
  {
   "cell_type": "code",
   "execution_count": 634,
   "id": "f36f2395",
   "metadata": {},
   "outputs": [
    {
     "name": "stdout",
     "output_type": "stream",
     "text": [
      "4.507000340370102 107.6914048047635 0.004672669048232908\n"
     ]
    }
   ],
   "source": [
    "mae2 = metrics.mean_absolute_error(yValid, y_predicted_testing)\n",
    "mse2 = metrics.mean_squared_error(yValid, y_predicted_testing)\n",
    "rsq2 = metrics.r2_score(yValid, y_predicted_testing)\n",
    "print(mae2, mse2, rsq2)"
   ]
  },
  {
   "cell_type": "code",
   "execution_count": 635,
   "id": "f71e4c01",
   "metadata": {},
   "outputs": [
    {
     "data": {
      "text/plain": [
       "array([[ 80,  94,  92,  90,  95,  80, 100,  95,  69]])"
      ]
     },
     "execution_count": 635,
     "metadata": {},
     "output_type": "execute_result"
    }
   ],
   "source": [
    "xVar = np.array([[80, 94, 92, 90, 95, 80, 100, 95, 69]])\n",
    "xVar"
   ]
  },
  {
   "cell_type": "code",
   "execution_count": 636,
   "id": "f4278fa0",
   "metadata": {},
   "outputs": [
    {
     "data": {
      "text/plain": [
       "array([[ 15.08291632, 457.78902084,  56.97681362,   3.08420836]])"
      ]
     },
     "execution_count": 636,
     "metadata": {},
     "output_type": "execute_result"
    }
   ],
   "source": [
    "yVar = nn.predict(xVar)\n",
    "yVar"
   ]
  },
  {
   "cell_type": "code",
   "execution_count": 637,
   "id": "7366e698",
   "metadata": {},
   "outputs": [],
   "source": [
    "import pickle"
   ]
  },
  {
   "cell_type": "code",
   "execution_count": 638,
   "id": "6df8f88a",
   "metadata": {},
   "outputs": [],
   "source": [
    "data = {\"model\": nn}\n",
    "with open('saved_steps.pkl', 'wb') as file:\n",
    "    pickle.dump(data, file)"
   ]
  },
  {
   "cell_type": "code",
   "execution_count": 639,
   "id": "362b29a7",
   "metadata": {},
   "outputs": [],
   "source": [
    "with open('saved_steps.pkl', 'rb') as file:\n",
    "    data = pickle.load(file)\n",
    "\n",
    "regressor_loaded = data[\"model\"]"
   ]
  },
  {
   "cell_type": "code",
   "execution_count": 642,
   "id": "362518c5",
   "metadata": {},
   "outputs": [
    {
     "data": {
      "text/plain": [
       "array([[ 15.08291632, 457.78902084,  56.97681362,   3.08420836]])"
      ]
     },
     "execution_count": 642,
     "metadata": {},
     "output_type": "execute_result"
    }
   ],
   "source": [
    "y_pred = regressor_loaded.predict(xVar)\n",
    "y_pred"
   ]
  }
 ],
 "metadata": {
  "kernelspec": {
   "display_name": "ml",
   "language": "python",
   "name": "ml"
  },
  "language_info": {
   "codemirror_mode": {
    "name": "ipython",
    "version": 3
   },
   "file_extension": ".py",
   "mimetype": "text/x-python",
   "name": "python",
   "nbconvert_exporter": "python",
   "pygments_lexer": "ipython3",
   "version": "3.9.5"
  }
 },
 "nbformat": 4,
 "nbformat_minor": 5
}
